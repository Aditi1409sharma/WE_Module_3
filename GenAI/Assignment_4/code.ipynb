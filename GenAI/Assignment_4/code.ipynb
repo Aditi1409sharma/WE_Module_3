{
 "cells": [
  {
   "cell_type": "code",
   "execution_count": null,
   "metadata": {},
   "outputs": [],
   "source": [
    "import random\n",
    "\n",
    "def generate(filename: str, start_words: list[str], chain_length: int, num_generated: int) -> str:\n",
    "    with open(filename, 'r', encoding='utf-8') as file:\n",
    "        text = file.read()\n",
    "\n",
    "    words = text.split()\n",
    "    chains = {}\n",
    "\n",
    "    for i in range(len(words) - chain_length):\n",
    "        key = tuple(words[i:i + chain_length])\n",
    "        value = words[i + chain_length]\n",
    "        if key in chains:\n",
    "            chains[key].append(value)\n",
    "        else:\n",
    "            chains[key] = [value]\n",
    "\n",
    "    current_words = start_words.copy()\n",
    "    result = ' '.join(current_words)\n",
    "\n",
    "    for _ in range(num_generated):\n",
    "        key = tuple(current_words)\n",
    "        if key in chains:\n",
    "            next_word = random.choice(chains[key])\n",
    "            result += ' ' + next_word\n",
    "            current_words = current_words[1:] + [next_word]\n",
    "        else:\n",
    "            break\n",
    "\n",
    "    return result\n",
    "\n",
    "\n",
    "\n"
   ]
  }
 ],
 "metadata": {
  "language_info": {
   "name": "python"
  }
 },
 "nbformat": 4,
 "nbformat_minor": 2
}
